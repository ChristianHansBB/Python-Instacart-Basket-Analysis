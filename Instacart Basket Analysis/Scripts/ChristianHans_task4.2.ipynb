{
 "cells": [
  {
   "cell_type": "markdown",
   "id": "011561cb",
   "metadata": {},
   "source": [
    "#  CONTENTS LIST\n",
    "## 1. Import Libraries \n",
    "## 2. Code 3 different ways of reaching a result of 100\n",
    "## 3. Code 2 floating-point variables and divide them by each other \n",
    "## 4. Construct a short word made of separate strings"
   ]
  },
  {
   "cell_type": "markdown",
   "id": "709034d4",
   "metadata": {},
   "source": [
    "## Import Libraries"
   ]
  },
  {
   "cell_type": "code",
   "execution_count": 5,
   "id": "43218641",
   "metadata": {},
   "outputs": [],
   "source": [
    "# Import libraries\n",
    "import pandas as pd\n",
    "import numpy as np\n",
    "import os"
   ]
  },
  {
   "cell_type": "markdown",
   "id": "72725756",
   "metadata": {},
   "source": [
    "## Data Types"
   ]
  },
  {
   "cell_type": "markdown",
   "id": "4fa81389",
   "metadata": {},
   "source": [
    "### Step 7"
   ]
  },
  {
   "cell_type": "code",
   "execution_count": 7,
   "id": "423dd644",
   "metadata": {},
   "outputs": [
    {
     "name": "stdout",
     "output_type": "stream",
     "text": [
      "100\n"
     ]
    }
   ],
   "source": [
    "x = 40\n",
    "y = 60\n",
    "print(x+y)"
   ]
  },
  {
   "cell_type": "code",
   "execution_count": 8,
   "id": "cdee32f1",
   "metadata": {},
   "outputs": [
    {
     "name": "stdout",
     "output_type": "stream",
     "text": [
      "100\n"
     ]
    }
   ],
   "source": [
    "x = 80\n",
    "y = 20\n",
    "print(x+y)"
   ]
  },
  {
   "cell_type": "code",
   "execution_count": 9,
   "id": "36de0e14",
   "metadata": {},
   "outputs": [
    {
     "name": "stdout",
     "output_type": "stream",
     "text": [
      "100\n"
     ]
    }
   ],
   "source": [
    "x = 150\n",
    "y = 50\n",
    "print(x-y)"
   ]
  },
  {
   "cell_type": "markdown",
   "id": "0e2fce0a",
   "metadata": {},
   "source": [
    "### Step 8"
   ]
  },
  {
   "cell_type": "code",
   "execution_count": 10,
   "id": "467bf399",
   "metadata": {},
   "outputs": [
    {
     "name": "stdout",
     "output_type": "stream",
     "text": [
      "2.272727272727273\n"
     ]
    }
   ],
   "source": [
    "x = 6.25\n",
    "y = 2.75\n",
    "print(x/y)"
   ]
  },
  {
   "cell_type": "markdown",
   "id": "e7a8fb5d",
   "metadata": {},
   "source": [
    "### Step 9"
   ]
  },
  {
   "cell_type": "code",
   "execution_count": 12,
   "id": "cd4d01f6",
   "metadata": {},
   "outputs": [
    {
     "name": "stdout",
     "output_type": "stream",
     "text": [
      "Hello World\n"
     ]
    }
   ],
   "source": [
    "x = 'Hello '\n",
    "y = 'World'\n",
    "print(x+y)"
   ]
  },
  {
   "cell_type": "markdown",
   "id": "beb05d8d",
   "metadata": {},
   "source": [
    "### Step 10"
   ]
  },
  {
   "cell_type": "code",
   "execution_count": 13,
   "id": "eab949c4",
   "metadata": {},
   "outputs": [
    {
     "name": "stdout",
     "output_type": "stream",
     "text": [
      "Python is an animal. But it also a programming language.\n"
     ]
    }
   ],
   "source": [
    "x = 'Python is an animal. '\n",
    "y = 'But it also a programming language.'\n",
    "print(x+y)"
   ]
  }
 ],
 "metadata": {
  "kernelspec": {
   "display_name": "Python 3 (ipykernel)",
   "language": "python",
   "name": "python3"
  },
  "language_info": {
   "codemirror_mode": {
    "name": "ipython",
    "version": 3
   },
   "file_extension": ".py",
   "mimetype": "text/x-python",
   "name": "python",
   "nbconvert_exporter": "python",
   "pygments_lexer": "ipython3",
   "version": "3.11.5"
  }
 },
 "nbformat": 4,
 "nbformat_minor": 5
}
