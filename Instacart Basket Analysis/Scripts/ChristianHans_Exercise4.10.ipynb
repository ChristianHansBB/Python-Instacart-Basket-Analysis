{
 "cells": [
  {
   "cell_type": "markdown",
   "id": "f325d754",
   "metadata": {},
   "source": [
    "#  CONTENTS LIST\n",
    "## 1. Importing libraries and data frames\n",
    "## 2. Security implications\n",
    "## 3. Regional segmentation\n",
    "## 4. Exclusion flag\n",
    "## 5. Profiling\n",
    "## 6. Create visualization\n",
    "## 7. Aggregation\n",
    "## 8. Compare Profiles with Regions and States \n",
    "## 9. Export Graphs"
   ]
  },
  {
   "cell_type": "markdown",
   "id": "cb23c050",
   "metadata": {},
   "source": [
    "## 1. Import data set"
   ]
  },
  {
   "cell_type": "code",
   "execution_count": 1,
   "id": "4c347069",
   "metadata": {},
   "outputs": [],
   "source": [
    "# Import Libraries\n",
    "import pandas as pd\n",
    "import numpy as np\n",
    "import os\n",
    "import matplotlib.pyplot as plt\n",
    "import seaborn as sns\n",
    "import scipy"
   ]
  },
  {
   "cell_type": "code",
   "execution_count": 2,
   "id": "fdd9210e",
   "metadata": {},
   "outputs": [],
   "source": [
    "#create path\n",
    "path = r'C:\\Users\\Christian\\Desktop\\Mein Ordner\\CF\\Data Immersion\\Achievement4\\Instacart Basket Analysis'"
   ]
  },
  {
   "cell_type": "code",
   "execution_count": 3,
   "id": "fb76f724",
   "metadata": {},
   "outputs": [],
   "source": [
    "#Import orders_products_customerl.pkl as df\n",
    "df = pd.read_pickle(os.path.join(path, 'Data', 'Prepared Data', 'orders_products_customer.pkl'))"
   ]
  },
  {
   "cell_type": "markdown",
   "id": "0629dace",
   "metadata": {},
   "source": [
    "## 2. Security implications"
   ]
  },
  {
   "cell_type": "code",
   "execution_count": 4,
   "id": "c4d77121",
   "metadata": {},
   "outputs": [
    {
     "data": {
      "text/html": [
       "<div>\n",
       "<style scoped>\n",
       "    .dataframe tbody tr th:only-of-type {\n",
       "        vertical-align: middle;\n",
       "    }\n",
       "\n",
       "    .dataframe tbody tr th {\n",
       "        vertical-align: top;\n",
       "    }\n",
       "\n",
       "    .dataframe thead th {\n",
       "        text-align: right;\n",
       "    }\n",
       "</style>\n",
       "<table border=\"1\" class=\"dataframe\">\n",
       "  <thead>\n",
       "    <tr style=\"text-align: right;\">\n",
       "      <th></th>\n",
       "      <th>order_id</th>\n",
       "      <th>user_id</th>\n",
       "      <th>eval_set</th>\n",
       "      <th>order_number</th>\n",
       "      <th>order_dow</th>\n",
       "      <th>order_hour_of_day</th>\n",
       "      <th>days_since_prior_order</th>\n",
       "      <th>product_id</th>\n",
       "      <th>add_to_cart_order</th>\n",
       "      <th>reordered</th>\n",
       "      <th>...</th>\n",
       "      <th>first_name</th>\n",
       "      <th>surname</th>\n",
       "      <th>Gender</th>\n",
       "      <th>State</th>\n",
       "      <th>Age</th>\n",
       "      <th>date_joined</th>\n",
       "      <th>dependants</th>\n",
       "      <th>family_status</th>\n",
       "      <th>income</th>\n",
       "      <th>_merge</th>\n",
       "    </tr>\n",
       "  </thead>\n",
       "  <tbody>\n",
       "    <tr>\n",
       "      <th>0</th>\n",
       "      <td>2539329</td>\n",
       "      <td>1</td>\n",
       "      <td>prior</td>\n",
       "      <td>1</td>\n",
       "      <td>2</td>\n",
       "      <td>8</td>\n",
       "      <td>NaN</td>\n",
       "      <td>196</td>\n",
       "      <td>1</td>\n",
       "      <td>0</td>\n",
       "      <td>...</td>\n",
       "      <td>Linda</td>\n",
       "      <td>Nguyen</td>\n",
       "      <td>Female</td>\n",
       "      <td>Alabama</td>\n",
       "      <td>31</td>\n",
       "      <td>2/17/2019</td>\n",
       "      <td>3</td>\n",
       "      <td>married</td>\n",
       "      <td>40423</td>\n",
       "      <td>both</td>\n",
       "    </tr>\n",
       "    <tr>\n",
       "      <th>1</th>\n",
       "      <td>2398795</td>\n",
       "      <td>1</td>\n",
       "      <td>prior</td>\n",
       "      <td>2</td>\n",
       "      <td>3</td>\n",
       "      <td>7</td>\n",
       "      <td>15.0</td>\n",
       "      <td>196</td>\n",
       "      <td>1</td>\n",
       "      <td>1</td>\n",
       "      <td>...</td>\n",
       "      <td>Linda</td>\n",
       "      <td>Nguyen</td>\n",
       "      <td>Female</td>\n",
       "      <td>Alabama</td>\n",
       "      <td>31</td>\n",
       "      <td>2/17/2019</td>\n",
       "      <td>3</td>\n",
       "      <td>married</td>\n",
       "      <td>40423</td>\n",
       "      <td>both</td>\n",
       "    </tr>\n",
       "    <tr>\n",
       "      <th>2</th>\n",
       "      <td>473747</td>\n",
       "      <td>1</td>\n",
       "      <td>prior</td>\n",
       "      <td>3</td>\n",
       "      <td>3</td>\n",
       "      <td>12</td>\n",
       "      <td>21.0</td>\n",
       "      <td>196</td>\n",
       "      <td>1</td>\n",
       "      <td>1</td>\n",
       "      <td>...</td>\n",
       "      <td>Linda</td>\n",
       "      <td>Nguyen</td>\n",
       "      <td>Female</td>\n",
       "      <td>Alabama</td>\n",
       "      <td>31</td>\n",
       "      <td>2/17/2019</td>\n",
       "      <td>3</td>\n",
       "      <td>married</td>\n",
       "      <td>40423</td>\n",
       "      <td>both</td>\n",
       "    </tr>\n",
       "    <tr>\n",
       "      <th>3</th>\n",
       "      <td>2254736</td>\n",
       "      <td>1</td>\n",
       "      <td>prior</td>\n",
       "      <td>4</td>\n",
       "      <td>4</td>\n",
       "      <td>7</td>\n",
       "      <td>29.0</td>\n",
       "      <td>196</td>\n",
       "      <td>1</td>\n",
       "      <td>1</td>\n",
       "      <td>...</td>\n",
       "      <td>Linda</td>\n",
       "      <td>Nguyen</td>\n",
       "      <td>Female</td>\n",
       "      <td>Alabama</td>\n",
       "      <td>31</td>\n",
       "      <td>2/17/2019</td>\n",
       "      <td>3</td>\n",
       "      <td>married</td>\n",
       "      <td>40423</td>\n",
       "      <td>both</td>\n",
       "    </tr>\n",
       "    <tr>\n",
       "      <th>4</th>\n",
       "      <td>431534</td>\n",
       "      <td>1</td>\n",
       "      <td>prior</td>\n",
       "      <td>5</td>\n",
       "      <td>4</td>\n",
       "      <td>15</td>\n",
       "      <td>28.0</td>\n",
       "      <td>196</td>\n",
       "      <td>1</td>\n",
       "      <td>1</td>\n",
       "      <td>...</td>\n",
       "      <td>Linda</td>\n",
       "      <td>Nguyen</td>\n",
       "      <td>Female</td>\n",
       "      <td>Alabama</td>\n",
       "      <td>31</td>\n",
       "      <td>2/17/2019</td>\n",
       "      <td>3</td>\n",
       "      <td>married</td>\n",
       "      <td>40423</td>\n",
       "      <td>both</td>\n",
       "    </tr>\n",
       "  </tbody>\n",
       "</table>\n",
       "<p>5 rows × 34 columns</p>\n",
       "</div>"
      ],
      "text/plain": [
       "   order_id user_id eval_set  order_number  order_dow  order_hour_of_day  \\\n",
       "0   2539329       1    prior             1          2                  8   \n",
       "1   2398795       1    prior             2          3                  7   \n",
       "2    473747       1    prior             3          3                 12   \n",
       "3   2254736       1    prior             4          4                  7   \n",
       "4    431534       1    prior             5          4                 15   \n",
       "\n",
       "   days_since_prior_order  product_id  add_to_cart_order  reordered  ...  \\\n",
       "0                     NaN         196                  1          0  ...   \n",
       "1                    15.0         196                  1          1  ...   \n",
       "2                    21.0         196                  1          1  ...   \n",
       "3                    29.0         196                  1          1  ...   \n",
       "4                    28.0         196                  1          1  ...   \n",
       "\n",
       "  first_name  surname  Gender    State Age date_joined dependants  \\\n",
       "0      Linda   Nguyen  Female  Alabama  31   2/17/2019          3   \n",
       "1      Linda   Nguyen  Female  Alabama  31   2/17/2019          3   \n",
       "2      Linda   Nguyen  Female  Alabama  31   2/17/2019          3   \n",
       "3      Linda   Nguyen  Female  Alabama  31   2/17/2019          3   \n",
       "4      Linda   Nguyen  Female  Alabama  31   2/17/2019          3   \n",
       "\n",
       "  family_status  income _merge  \n",
       "0       married   40423   both  \n",
       "1       married   40423   both  \n",
       "2       married   40423   both  \n",
       "3       married   40423   both  \n",
       "4       married   40423   both  \n",
       "\n",
       "[5 rows x 34 columns]"
      ]
     },
     "execution_count": 4,
     "metadata": {},
     "output_type": "execute_result"
    }
   ],
   "source": [
    "df.head()"
   ]
  },
  {
   "cell_type": "markdown",
   "id": "cf706ac5",
   "metadata": {},
   "source": [
    "The columns first_name and surname contain personally identifiable information (PII). The cloumn _merge is unnecessary.\n",
    "Therefore they can be dropped."
   ]
  },
  {
   "cell_type": "code",
   "execution_count": 5,
   "id": "ef30482c",
   "metadata": {},
   "outputs": [],
   "source": [
    "#drop columns\n",
    "df = df.drop(columns = ['first_name', 'surname', '_merge'])"
   ]
  },
  {
   "cell_type": "code",
   "execution_count": 6,
   "id": "a3efdb6a",
   "metadata": {},
   "outputs": [
    {
     "data": {
      "text/html": [
       "<div>\n",
       "<style scoped>\n",
       "    .dataframe tbody tr th:only-of-type {\n",
       "        vertical-align: middle;\n",
       "    }\n",
       "\n",
       "    .dataframe tbody tr th {\n",
       "        vertical-align: top;\n",
       "    }\n",
       "\n",
       "    .dataframe thead th {\n",
       "        text-align: right;\n",
       "    }\n",
       "</style>\n",
       "<table border=\"1\" class=\"dataframe\">\n",
       "  <thead>\n",
       "    <tr style=\"text-align: right;\">\n",
       "      <th></th>\n",
       "      <th>order_id</th>\n",
       "      <th>user_id</th>\n",
       "      <th>eval_set</th>\n",
       "      <th>order_number</th>\n",
       "      <th>order_dow</th>\n",
       "      <th>order_hour_of_day</th>\n",
       "      <th>days_since_prior_order</th>\n",
       "      <th>product_id</th>\n",
       "      <th>add_to_cart_order</th>\n",
       "      <th>reordered</th>\n",
       "      <th>...</th>\n",
       "      <th>spender_performance</th>\n",
       "      <th>frequency_order</th>\n",
       "      <th>frequency_flag</th>\n",
       "      <th>Gender</th>\n",
       "      <th>State</th>\n",
       "      <th>Age</th>\n",
       "      <th>date_joined</th>\n",
       "      <th>dependants</th>\n",
       "      <th>family_status</th>\n",
       "      <th>income</th>\n",
       "    </tr>\n",
       "  </thead>\n",
       "  <tbody>\n",
       "    <tr>\n",
       "      <th>0</th>\n",
       "      <td>2539329</td>\n",
       "      <td>1</td>\n",
       "      <td>prior</td>\n",
       "      <td>1</td>\n",
       "      <td>2</td>\n",
       "      <td>8</td>\n",
       "      <td>NaN</td>\n",
       "      <td>196</td>\n",
       "      <td>1</td>\n",
       "      <td>0</td>\n",
       "      <td>...</td>\n",
       "      <td>Low spender</td>\n",
       "      <td>20.5</td>\n",
       "      <td>Non-frequent customer</td>\n",
       "      <td>Female</td>\n",
       "      <td>Alabama</td>\n",
       "      <td>31</td>\n",
       "      <td>2/17/2019</td>\n",
       "      <td>3</td>\n",
       "      <td>married</td>\n",
       "      <td>40423</td>\n",
       "    </tr>\n",
       "    <tr>\n",
       "      <th>1</th>\n",
       "      <td>2398795</td>\n",
       "      <td>1</td>\n",
       "      <td>prior</td>\n",
       "      <td>2</td>\n",
       "      <td>3</td>\n",
       "      <td>7</td>\n",
       "      <td>15.0</td>\n",
       "      <td>196</td>\n",
       "      <td>1</td>\n",
       "      <td>1</td>\n",
       "      <td>...</td>\n",
       "      <td>Low spender</td>\n",
       "      <td>20.5</td>\n",
       "      <td>Non-frequent customer</td>\n",
       "      <td>Female</td>\n",
       "      <td>Alabama</td>\n",
       "      <td>31</td>\n",
       "      <td>2/17/2019</td>\n",
       "      <td>3</td>\n",
       "      <td>married</td>\n",
       "      <td>40423</td>\n",
       "    </tr>\n",
       "    <tr>\n",
       "      <th>2</th>\n",
       "      <td>473747</td>\n",
       "      <td>1</td>\n",
       "      <td>prior</td>\n",
       "      <td>3</td>\n",
       "      <td>3</td>\n",
       "      <td>12</td>\n",
       "      <td>21.0</td>\n",
       "      <td>196</td>\n",
       "      <td>1</td>\n",
       "      <td>1</td>\n",
       "      <td>...</td>\n",
       "      <td>Low spender</td>\n",
       "      <td>20.5</td>\n",
       "      <td>Non-frequent customer</td>\n",
       "      <td>Female</td>\n",
       "      <td>Alabama</td>\n",
       "      <td>31</td>\n",
       "      <td>2/17/2019</td>\n",
       "      <td>3</td>\n",
       "      <td>married</td>\n",
       "      <td>40423</td>\n",
       "    </tr>\n",
       "    <tr>\n",
       "      <th>3</th>\n",
       "      <td>2254736</td>\n",
       "      <td>1</td>\n",
       "      <td>prior</td>\n",
       "      <td>4</td>\n",
       "      <td>4</td>\n",
       "      <td>7</td>\n",
       "      <td>29.0</td>\n",
       "      <td>196</td>\n",
       "      <td>1</td>\n",
       "      <td>1</td>\n",
       "      <td>...</td>\n",
       "      <td>Low spender</td>\n",
       "      <td>20.5</td>\n",
       "      <td>Non-frequent customer</td>\n",
       "      <td>Female</td>\n",
       "      <td>Alabama</td>\n",
       "      <td>31</td>\n",
       "      <td>2/17/2019</td>\n",
       "      <td>3</td>\n",
       "      <td>married</td>\n",
       "      <td>40423</td>\n",
       "    </tr>\n",
       "    <tr>\n",
       "      <th>4</th>\n",
       "      <td>431534</td>\n",
       "      <td>1</td>\n",
       "      <td>prior</td>\n",
       "      <td>5</td>\n",
       "      <td>4</td>\n",
       "      <td>15</td>\n",
       "      <td>28.0</td>\n",
       "      <td>196</td>\n",
       "      <td>1</td>\n",
       "      <td>1</td>\n",
       "      <td>...</td>\n",
       "      <td>Low spender</td>\n",
       "      <td>20.5</td>\n",
       "      <td>Non-frequent customer</td>\n",
       "      <td>Female</td>\n",
       "      <td>Alabama</td>\n",
       "      <td>31</td>\n",
       "      <td>2/17/2019</td>\n",
       "      <td>3</td>\n",
       "      <td>married</td>\n",
       "      <td>40423</td>\n",
       "    </tr>\n",
       "  </tbody>\n",
       "</table>\n",
       "<p>5 rows × 31 columns</p>\n",
       "</div>"
      ],
      "text/plain": [
       "   order_id user_id eval_set  order_number  order_dow  order_hour_of_day  \\\n",
       "0   2539329       1    prior             1          2                  8   \n",
       "1   2398795       1    prior             2          3                  7   \n",
       "2    473747       1    prior             3          3                 12   \n",
       "3   2254736       1    prior             4          4                  7   \n",
       "4    431534       1    prior             5          4                 15   \n",
       "\n",
       "   days_since_prior_order  product_id  add_to_cart_order  reordered  ...  \\\n",
       "0                     NaN         196                  1          0  ...   \n",
       "1                    15.0         196                  1          1  ...   \n",
       "2                    21.0         196                  1          1  ...   \n",
       "3                    29.0         196                  1          1  ...   \n",
       "4                    28.0         196                  1          1  ...   \n",
       "\n",
       "  spender_performance  frequency_order         frequency_flag  Gender  \\\n",
       "0         Low spender             20.5  Non-frequent customer  Female   \n",
       "1         Low spender             20.5  Non-frequent customer  Female   \n",
       "2         Low spender             20.5  Non-frequent customer  Female   \n",
       "3         Low spender             20.5  Non-frequent customer  Female   \n",
       "4         Low spender             20.5  Non-frequent customer  Female   \n",
       "\n",
       "     State Age date_joined dependants  family_status income  \n",
       "0  Alabama  31   2/17/2019          3        married  40423  \n",
       "1  Alabama  31   2/17/2019          3        married  40423  \n",
       "2  Alabama  31   2/17/2019          3        married  40423  \n",
       "3  Alabama  31   2/17/2019          3        married  40423  \n",
       "4  Alabama  31   2/17/2019          3        married  40423  \n",
       "\n",
       "[5 rows x 31 columns]"
      ]
     },
     "execution_count": 6,
     "metadata": {},
     "output_type": "execute_result"
    }
   ],
   "source": [
    "df.head()"
   ]
  },
  {
   "cell_type": "markdown",
   "id": "66287fcf",
   "metadata": {},
   "source": [
    "## 3. Regional segmentation "
   ]
  },
  {
   "cell_type": "code",
   "execution_count": 7,
   "id": "ab8b376f",
   "metadata": {},
   "outputs": [],
   "source": [
    "#Creating empty list\n",
    "regions = []"
   ]
  },
  {
   "cell_type": "code",
   "execution_count": 8,
   "id": "4d61e481",
   "metadata": {},
   "outputs": [],
   "source": [
    "#create regional lists "
   ]
  },
  {
   "cell_type": "code",
   "execution_count": 9,
   "id": "f06099ed",
   "metadata": {},
   "outputs": [],
   "source": [
    "Northeast = ['Maine', 'New Hampshire', 'Vermont', 'Massachusetts', 'Rhode Island', 'Connecticut', 'New York', 'Pennsylvania', 'New Jersey']"
   ]
  },
  {
   "cell_type": "code",
   "execution_count": 10,
   "id": "73f5ed23",
   "metadata": {},
   "outputs": [],
   "source": [
    "Midwest = ['Wisconsin', 'Michigan', 'Illinois', 'Indiana', 'Ohio', 'North Dakota', 'South Dakota', 'Nebraska', 'Kansas', 'Minnesota', 'Iowa', 'Missouri']"
   ]
  },
  {
   "cell_type": "code",
   "execution_count": 11,
   "id": "f3531037",
   "metadata": {},
   "outputs": [],
   "source": [
    "South = ['Delaware', 'Maryland', 'District of Columbia', 'Virginia', 'West Virginia', 'North Carolina', 'South Carolina', 'Georgia', 'Florida', 'Kentucky', 'Tennessee', 'Mississippi', 'Alabama', 'Oklahoma', 'Texas', 'Arkansas', 'Louisiana']"
   ]
  },
  {
   "cell_type": "code",
   "execution_count": 12,
   "id": "b5ca8d6b",
   "metadata": {},
   "outputs": [],
   "source": [
    "West = ['Idaho','Montana', 'Wyoming', 'Nevada', 'Utah', 'Colorado', 'Arizona', 'New Mexico', 'Alaska', 'Washington', 'Oregon', 'California', 'Hawaii']"
   ]
  },
  {
   "cell_type": "code",
   "execution_count": 13,
   "id": "cab3cb53",
   "metadata": {},
   "outputs": [],
   "source": [
    "#assign region to state\n",
    "for state in df['State']:\n",
    "    if state in Northeast:\n",
    "        regions.append('Northeast')\n",
    "    elif state in Midwest:\n",
    "        regions.append('Midwest')\n",
    "    elif state in South:\n",
    "        regions.append('South')\n",
    "    elif state in West:\n",
    "        regions.append('West')\n",
    "    else: \n",
    "        print('error')"
   ]
  },
  {
   "cell_type": "code",
   "execution_count": 14,
   "id": "222b26b9",
   "metadata": {},
   "outputs": [],
   "source": [
    "#add regions to dataframe\n",
    "df['Region'] = regions"
   ]
  },
  {
   "cell_type": "code",
   "execution_count": 15,
   "id": "43425ab2",
   "metadata": {},
   "outputs": [
    {
     "data": {
      "text/html": [
       "<div>\n",
       "<style scoped>\n",
       "    .dataframe tbody tr th:only-of-type {\n",
       "        vertical-align: middle;\n",
       "    }\n",
       "\n",
       "    .dataframe tbody tr th {\n",
       "        vertical-align: top;\n",
       "    }\n",
       "\n",
       "    .dataframe thead th {\n",
       "        text-align: right;\n",
       "    }\n",
       "</style>\n",
       "<table border=\"1\" class=\"dataframe\">\n",
       "  <thead>\n",
       "    <tr style=\"text-align: right;\">\n",
       "      <th></th>\n",
       "      <th>order_id</th>\n",
       "      <th>user_id</th>\n",
       "      <th>eval_set</th>\n",
       "      <th>order_number</th>\n",
       "      <th>order_dow</th>\n",
       "      <th>order_hour_of_day</th>\n",
       "      <th>days_since_prior_order</th>\n",
       "      <th>product_id</th>\n",
       "      <th>add_to_cart_order</th>\n",
       "      <th>reordered</th>\n",
       "      <th>...</th>\n",
       "      <th>frequency_order</th>\n",
       "      <th>frequency_flag</th>\n",
       "      <th>Gender</th>\n",
       "      <th>State</th>\n",
       "      <th>Age</th>\n",
       "      <th>date_joined</th>\n",
       "      <th>dependants</th>\n",
       "      <th>family_status</th>\n",
       "      <th>income</th>\n",
       "      <th>Region</th>\n",
       "    </tr>\n",
       "  </thead>\n",
       "  <tbody>\n",
       "    <tr>\n",
       "      <th>0</th>\n",
       "      <td>2539329</td>\n",
       "      <td>1</td>\n",
       "      <td>prior</td>\n",
       "      <td>1</td>\n",
       "      <td>2</td>\n",
       "      <td>8</td>\n",
       "      <td>NaN</td>\n",
       "      <td>196</td>\n",
       "      <td>1</td>\n",
       "      <td>0</td>\n",
       "      <td>...</td>\n",
       "      <td>20.5</td>\n",
       "      <td>Non-frequent customer</td>\n",
       "      <td>Female</td>\n",
       "      <td>Alabama</td>\n",
       "      <td>31</td>\n",
       "      <td>2/17/2019</td>\n",
       "      <td>3</td>\n",
       "      <td>married</td>\n",
       "      <td>40423</td>\n",
       "      <td>South</td>\n",
       "    </tr>\n",
       "    <tr>\n",
       "      <th>1</th>\n",
       "      <td>2398795</td>\n",
       "      <td>1</td>\n",
       "      <td>prior</td>\n",
       "      <td>2</td>\n",
       "      <td>3</td>\n",
       "      <td>7</td>\n",
       "      <td>15.0</td>\n",
       "      <td>196</td>\n",
       "      <td>1</td>\n",
       "      <td>1</td>\n",
       "      <td>...</td>\n",
       "      <td>20.5</td>\n",
       "      <td>Non-frequent customer</td>\n",
       "      <td>Female</td>\n",
       "      <td>Alabama</td>\n",
       "      <td>31</td>\n",
       "      <td>2/17/2019</td>\n",
       "      <td>3</td>\n",
       "      <td>married</td>\n",
       "      <td>40423</td>\n",
       "      <td>South</td>\n",
       "    </tr>\n",
       "    <tr>\n",
       "      <th>2</th>\n",
       "      <td>473747</td>\n",
       "      <td>1</td>\n",
       "      <td>prior</td>\n",
       "      <td>3</td>\n",
       "      <td>3</td>\n",
       "      <td>12</td>\n",
       "      <td>21.0</td>\n",
       "      <td>196</td>\n",
       "      <td>1</td>\n",
       "      <td>1</td>\n",
       "      <td>...</td>\n",
       "      <td>20.5</td>\n",
       "      <td>Non-frequent customer</td>\n",
       "      <td>Female</td>\n",
       "      <td>Alabama</td>\n",
       "      <td>31</td>\n",
       "      <td>2/17/2019</td>\n",
       "      <td>3</td>\n",
       "      <td>married</td>\n",
       "      <td>40423</td>\n",
       "      <td>South</td>\n",
       "    </tr>\n",
       "    <tr>\n",
       "      <th>3</th>\n",
       "      <td>2254736</td>\n",
       "      <td>1</td>\n",
       "      <td>prior</td>\n",
       "      <td>4</td>\n",
       "      <td>4</td>\n",
       "      <td>7</td>\n",
       "      <td>29.0</td>\n",
       "      <td>196</td>\n",
       "      <td>1</td>\n",
       "      <td>1</td>\n",
       "      <td>...</td>\n",
       "      <td>20.5</td>\n",
       "      <td>Non-frequent customer</td>\n",
       "      <td>Female</td>\n",
       "      <td>Alabama</td>\n",
       "      <td>31</td>\n",
       "      <td>2/17/2019</td>\n",
       "      <td>3</td>\n",
       "      <td>married</td>\n",
       "      <td>40423</td>\n",
       "      <td>South</td>\n",
       "    </tr>\n",
       "    <tr>\n",
       "      <th>4</th>\n",
       "      <td>431534</td>\n",
       "      <td>1</td>\n",
       "      <td>prior</td>\n",
       "      <td>5</td>\n",
       "      <td>4</td>\n",
       "      <td>15</td>\n",
       "      <td>28.0</td>\n",
       "      <td>196</td>\n",
       "      <td>1</td>\n",
       "      <td>1</td>\n",
       "      <td>...</td>\n",
       "      <td>20.5</td>\n",
       "      <td>Non-frequent customer</td>\n",
       "      <td>Female</td>\n",
       "      <td>Alabama</td>\n",
       "      <td>31</td>\n",
       "      <td>2/17/2019</td>\n",
       "      <td>3</td>\n",
       "      <td>married</td>\n",
       "      <td>40423</td>\n",
       "      <td>South</td>\n",
       "    </tr>\n",
       "  </tbody>\n",
       "</table>\n",
       "<p>5 rows × 32 columns</p>\n",
       "</div>"
      ],
      "text/plain": [
       "   order_id user_id eval_set  order_number  order_dow  order_hour_of_day  \\\n",
       "0   2539329       1    prior             1          2                  8   \n",
       "1   2398795       1    prior             2          3                  7   \n",
       "2    473747       1    prior             3          3                 12   \n",
       "3   2254736       1    prior             4          4                  7   \n",
       "4    431534       1    prior             5          4                 15   \n",
       "\n",
       "   days_since_prior_order  product_id  add_to_cart_order  reordered  ...  \\\n",
       "0                     NaN         196                  1          0  ...   \n",
       "1                    15.0         196                  1          1  ...   \n",
       "2                    21.0         196                  1          1  ...   \n",
       "3                    29.0         196                  1          1  ...   \n",
       "4                    28.0         196                  1          1  ...   \n",
       "\n",
       "  frequency_order         frequency_flag  Gender    State Age date_joined  \\\n",
       "0            20.5  Non-frequent customer  Female  Alabama  31   2/17/2019   \n",
       "1            20.5  Non-frequent customer  Female  Alabama  31   2/17/2019   \n",
       "2            20.5  Non-frequent customer  Female  Alabama  31   2/17/2019   \n",
       "3            20.5  Non-frequent customer  Female  Alabama  31   2/17/2019   \n",
       "4            20.5  Non-frequent customer  Female  Alabama  31   2/17/2019   \n",
       "\n",
       "  dependants family_status  income Region  \n",
       "0          3       married   40423  South  \n",
       "1          3       married   40423  South  \n",
       "2          3       married   40423  South  \n",
       "3          3       married   40423  South  \n",
       "4          3       married   40423  South  \n",
       "\n",
       "[5 rows x 32 columns]"
      ]
     },
     "execution_count": 15,
     "metadata": {},
     "output_type": "execute_result"
    }
   ],
   "source": [
    "df.head()"
   ]
  },
  {
   "cell_type": "code",
   "execution_count": 16,
   "id": "f02fc5b9",
   "metadata": {},
   "outputs": [],
   "source": [
    "#Determine whether there’s a difference in spending habits between the different U.S. regions.\n",
    "crosstab = pd.crosstab(df['Region'], df['spender_performance'], dropna = False)"
   ]
  },
  {
   "cell_type": "code",
   "execution_count": 17,
   "id": "9b9f41c1",
   "metadata": {},
   "outputs": [
    {
     "data": {
      "text/html": [
       "<div>\n",
       "<style scoped>\n",
       "    .dataframe tbody tr th:only-of-type {\n",
       "        vertical-align: middle;\n",
       "    }\n",
       "\n",
       "    .dataframe tbody tr th {\n",
       "        vertical-align: top;\n",
       "    }\n",
       "\n",
       "    .dataframe thead th {\n",
       "        text-align: right;\n",
       "    }\n",
       "</style>\n",
       "<table border=\"1\" class=\"dataframe\">\n",
       "  <thead>\n",
       "    <tr style=\"text-align: right;\">\n",
       "      <th>spender_performance</th>\n",
       "      <th>High spender</th>\n",
       "      <th>Low spender</th>\n",
       "    </tr>\n",
       "    <tr>\n",
       "      <th>Region</th>\n",
       "      <th></th>\n",
       "      <th></th>\n",
       "    </tr>\n",
       "  </thead>\n",
       "  <tbody>\n",
       "    <tr>\n",
       "      <th>South</th>\n",
       "      <td>209691</td>\n",
       "      <td>10582194</td>\n",
       "    </tr>\n",
       "    <tr>\n",
       "      <th>West</th>\n",
       "      <td>160354</td>\n",
       "      <td>8132559</td>\n",
       "    </tr>\n",
       "    <tr>\n",
       "      <th>Midwest</th>\n",
       "      <td>155975</td>\n",
       "      <td>7441350</td>\n",
       "    </tr>\n",
       "    <tr>\n",
       "      <th>Northeast</th>\n",
       "      <td>108225</td>\n",
       "      <td>5614511</td>\n",
       "    </tr>\n",
       "  </tbody>\n",
       "</table>\n",
       "</div>"
      ],
      "text/plain": [
       "spender_performance  High spender  Low spender\n",
       "Region                                        \n",
       "South                      209691     10582194\n",
       "West                       160354      8132559\n",
       "Midwest                    155975      7441350\n",
       "Northeast                  108225      5614511"
      ]
     },
     "execution_count": 17,
     "metadata": {},
     "output_type": "execute_result"
    }
   ],
   "source": [
    "crosstab.sort_values(by='Low spender', ascending=False)"
   ]
  },
  {
   "cell_type": "code",
   "execution_count": 18,
   "id": "08dad480",
   "metadata": {},
   "outputs": [
    {
     "data": {
      "text/html": [
       "<div>\n",
       "<style scoped>\n",
       "    .dataframe tbody tr th:only-of-type {\n",
       "        vertical-align: middle;\n",
       "    }\n",
       "\n",
       "    .dataframe tbody tr th {\n",
       "        vertical-align: top;\n",
       "    }\n",
       "\n",
       "    .dataframe thead th {\n",
       "        text-align: right;\n",
       "    }\n",
       "</style>\n",
       "<table border=\"1\" class=\"dataframe\">\n",
       "  <thead>\n",
       "    <tr style=\"text-align: right;\">\n",
       "      <th>spender_performance</th>\n",
       "      <th>High spender</th>\n",
       "      <th>Low spender</th>\n",
       "    </tr>\n",
       "    <tr>\n",
       "      <th>Region</th>\n",
       "      <th></th>\n",
       "      <th></th>\n",
       "    </tr>\n",
       "  </thead>\n",
       "  <tbody>\n",
       "    <tr>\n",
       "      <th>South</th>\n",
       "      <td>209691</td>\n",
       "      <td>10582194</td>\n",
       "    </tr>\n",
       "    <tr>\n",
       "      <th>West</th>\n",
       "      <td>160354</td>\n",
       "      <td>8132559</td>\n",
       "    </tr>\n",
       "    <tr>\n",
       "      <th>Midwest</th>\n",
       "      <td>155975</td>\n",
       "      <td>7441350</td>\n",
       "    </tr>\n",
       "    <tr>\n",
       "      <th>Northeast</th>\n",
       "      <td>108225</td>\n",
       "      <td>5614511</td>\n",
       "    </tr>\n",
       "  </tbody>\n",
       "</table>\n",
       "</div>"
      ],
      "text/plain": [
       "spender_performance  High spender  Low spender\n",
       "Region                                        \n",
       "South                      209691     10582194\n",
       "West                       160354      8132559\n",
       "Midwest                    155975      7441350\n",
       "Northeast                  108225      5614511"
      ]
     },
     "execution_count": 18,
     "metadata": {},
     "output_type": "execute_result"
    }
   ],
   "source": [
    "crosstab.sort_values(by='High spender', ascending=False)"
   ]
  },
  {
   "cell_type": "code",
   "execution_count": 19,
   "id": "ecbca123",
   "metadata": {},
   "outputs": [
    {
     "data": {
      "image/png": "[encoded data removed]",
      "text/plain": [
       "<Figure size 640x480 with 1 Axes>"
      ]
     },
     "metadata": {},
     "output_type": "display_data"
    }
   ],
   "source": [
    "# create bar chart\n",
    "bar = crosstab.plot.bar()"
   ]
  },
  {
   "cell_type": "markdown",
   "id": "b15997bc",
   "metadata": {},
   "source": [
    "There are high spenders in every region but low spenders are the majority in all 4 regions. Most of the low spenders are in the \n",
    "South region followed by West, Midwest and Northeast. The same sequence of states applies to the high spenders."
   ]
  },
  {
   "cell_type": "code",
   "execution_count": 20,
   "id": "dc9cc2cb",
   "metadata": {},
   "outputs": [],
   "source": [
    "bar.figure.savefig(os.path.join(path, 'Analysis', 'Visualizations', 'bar_region_spender.png'))"
   ]
  },
  {
   "cell_type": "markdown",
   "id": "ee115839",
   "metadata": {},
   "source": [
    "## 4. Exclusion flag"
   ]
  },
  {
   "cell_type": "code",
   "execution_count": 24,
   "id": "70108ebd",
   "metadata": {},
   "outputs": [],
   "source": [
    "#Creating empty list\n",
    "flag = []"
   ]
  },
  {
   "cell_type": "code",
   "execution_count": 25,
   "id": "5181486d",
   "metadata": {},
   "outputs": [],
   "source": [
    "#assign activity\n",
    "for number in df['order_number']:\n",
    "    if number < 5:\n",
    "        flag.append('low-activity customer')\n",
    "    else:\n",
    "        flag.append('high-activity customer')"
   ]
  },
  {
   "cell_type": "code",
   "execution_count": 26,
   "id": "68f6a690",
   "metadata": {},
   "outputs": [],
   "source": [
    "#add activity flags\n",
    "df['activity_flag'] = flag"
   ]
  },
  {
   "cell_type": "code",
   "execution_count": 27,
   "id": "579f5fb8",
   "metadata": {},
   "outputs": [
    {
     "data": {
      "text/plain": [
       "activity_flag\n",
       "high-activity customer    24414877\n",
       "low-activity customer      7989982\n",
       "Name: count, dtype: int64"
      ]
     },
     "execution_count": 27,
     "metadata": {},
     "output_type": "execute_result"
    }
   ],
   "source": [
    "df['activity_flag'].value_counts(dropna = False)"
   ]
  },
  {
   "cell_type": "code",
   "execution_count": 28,
   "id": "facd9082",
   "metadata": {},
   "outputs": [],
   "source": [
    "# drop all low-activity customers\n",
    "df_drop = df.drop(df[df['activity_flag'] == 'low-activity customer'].index)"
   ]
  },
  {
   "cell_type": "code",
   "execution_count": 29,
   "id": "d9ea3e7e",
   "metadata": {},
   "outputs": [
    {
     "data": {
      "text/plain": [
       "(24414877, 33)"
      ]
     },
     "execution_count": 29,
     "metadata": {},
     "output_type": "execute_result"
    }
   ],
   "source": [
    "df_drop.shape"
   ]
  },
  {
   "cell_type": "code",
   "execution_count": null,
   "id": "ab4df4b4",
   "metadata": {},
   "outputs": [],
   "source": [
    "#Export the sample\n",
    "df_drop.to_pickle(os.path.join(path, 'Data', 'Prepared Data', 'orders_products_customer_exclusion_flag.pkl'))"
   ]
  },
  {
   "cell_type": "markdown",
   "id": "a86e4c43",
   "metadata": {},
   "source": [
    "## 5. Profiling"
   ]
  },
  {
   "cell_type": "code",
   "execution_count": 30,
   "id": "cfab48bd",
   "metadata": {},
   "outputs": [
    {
     "data": {
      "text/html": [
       "<div>\n",
       "<style scoped>\n",
       "    .dataframe tbody tr th:only-of-type {\n",
       "        vertical-align: middle;\n",
       "    }\n",
       "\n",
       "    .dataframe tbody tr th {\n",
       "        vertical-align: top;\n",
       "    }\n",
       "\n",
       "    .dataframe thead th {\n",
       "        text-align: right;\n",
       "    }\n",
       "</style>\n",
       "<table border=\"1\" class=\"dataframe\">\n",
       "  <thead>\n",
       "    <tr style=\"text-align: right;\">\n",
       "      <th></th>\n",
       "      <th>Age</th>\n",
       "      <th>income</th>\n",
       "      <th>dependants</th>\n",
       "    </tr>\n",
       "  </thead>\n",
       "  <tbody>\n",
       "    <tr>\n",
       "      <th>count</th>\n",
       "      <td>2.441488e+07</td>\n",
       "      <td>2.441488e+07</td>\n",
       "      <td>2.441488e+07</td>\n",
       "    </tr>\n",
       "    <tr>\n",
       "      <th>mean</th>\n",
       "      <td>4.945734e+01</td>\n",
       "      <td>9.989505e+04</td>\n",
       "      <td>1.502001e+00</td>\n",
       "    </tr>\n",
       "    <tr>\n",
       "      <th>std</th>\n",
       "      <td>1.848532e+01</td>\n",
       "      <td>4.333357e+04</td>\n",
       "      <td>1.119171e+00</td>\n",
       "    </tr>\n",
       "    <tr>\n",
       "      <th>min</th>\n",
       "      <td>1.800000e+01</td>\n",
       "      <td>2.590300e+04</td>\n",
       "      <td>0.000000e+00</td>\n",
       "    </tr>\n",
       "    <tr>\n",
       "      <th>25%</th>\n",
       "      <td>3.300000e+01</td>\n",
       "      <td>6.752400e+04</td>\n",
       "      <td>0.000000e+00</td>\n",
       "    </tr>\n",
       "    <tr>\n",
       "      <th>50%</th>\n",
       "      <td>4.900000e+01</td>\n",
       "      <td>9.683600e+04</td>\n",
       "      <td>2.000000e+00</td>\n",
       "    </tr>\n",
       "    <tr>\n",
       "      <th>75%</th>\n",
       "      <td>6.500000e+01</td>\n",
       "      <td>1.281600e+05</td>\n",
       "      <td>3.000000e+00</td>\n",
       "    </tr>\n",
       "    <tr>\n",
       "      <th>max</th>\n",
       "      <td>8.100000e+01</td>\n",
       "      <td>5.939010e+05</td>\n",
       "      <td>3.000000e+00</td>\n",
       "    </tr>\n",
       "  </tbody>\n",
       "</table>\n",
       "</div>"
      ],
      "text/plain": [
       "                Age        income    dependants\n",
       "count  2.441488e+07  2.441488e+07  2.441488e+07\n",
       "mean   4.945734e+01  9.989505e+04  1.502001e+00\n",
       "std    1.848532e+01  4.333357e+04  1.119171e+00\n",
       "min    1.800000e+01  2.590300e+04  0.000000e+00\n",
       "25%    3.300000e+01  6.752400e+04  0.000000e+00\n",
       "50%    4.900000e+01  9.683600e+04  2.000000e+00\n",
       "75%    6.500000e+01  1.281600e+05  3.000000e+00\n",
       "max    8.100000e+01  5.939010e+05  3.000000e+00"
      ]
     },
     "execution_count": 30,
     "metadata": {},
     "output_type": "execute_result"
    }
   ],
   "source": [
    "df_drop[['Age', 'income', 'dependants']].describe()"
   ]
  },
  {
   "cell_type": "code",
   "execution_count": 31,
   "id": "ee5a9eb2",
   "metadata": {},
   "outputs": [],
   "source": [
    "#create age profiles"
   ]
  },
  {
   "cell_type": "code",
   "execution_count": 32,
   "id": "0dd2c941",
   "metadata": {},
   "outputs": [],
   "source": [
    "df_drop.loc[df_drop['Age'] <= 33, 'age-group'] = 'young adult'"
   ]
  },
  {
   "cell_type": "code",
   "execution_count": 33,
   "id": "aed97db7",
   "metadata": {},
   "outputs": [],
   "source": [
    "df_drop.loc[(df_drop['Age'] > 33) & (df_drop['Age'] < 65), 'age-group'] = 'middle-aged adult'"
   ]
  },
  {
   "cell_type": "code",
   "execution_count": 34,
   "id": "56368bd4",
   "metadata": {},
   "outputs": [],
   "source": [
    "df_drop.loc[df_drop['Age'] >= 65, 'age-group'] = 'old adult'"
   ]
  },
  {
   "cell_type": "code",
   "execution_count": 35,
   "id": "6ea76f9d",
   "metadata": {},
   "outputs": [
    {
     "data": {
      "text/plain": [
       "age-group\n",
       "middle-aged adult    11841096\n",
       "old adult             6458450\n",
       "young adult           6115331\n",
       "Name: count, dtype: int64"
      ]
     },
     "execution_count": 35,
     "metadata": {},
     "output_type": "execute_result"
    }
   ],
   "source": [
    "df_drop['age-group'].value_counts(dropna = False)"
   ]
  },
  {
   "cell_type": "code",
   "execution_count": 36,
   "id": "b20ecd0f",
   "metadata": {},
   "outputs": [],
   "source": [
    "#create income profiles"
   ]
  },
  {
   "cell_type": "code",
   "execution_count": 37,
   "id": "56269e6e",
   "metadata": {},
   "outputs": [],
   "source": [
    "df_drop.loc[df_drop['income'] <= 67524, 'income-group'] = 'low income'"
   ]
  },
  {
   "cell_type": "code",
   "execution_count": 38,
   "id": "bed2db7d",
   "metadata": {},
   "outputs": [],
   "source": [
    "df_drop.loc[(df_drop['income'] > 67524) & (df_drop['Age'] < 128160), 'income-group'] = 'middle income'"
   ]
  },
  {
   "cell_type": "code",
   "execution_count": 39,
   "id": "f0af6b64",
   "metadata": {},
   "outputs": [],
   "source": [
    "df_drop.loc[df_drop['income'] >  128160 , 'income-group'] = 'high income'"
   ]
  },
  {
   "cell_type": "code",
   "execution_count": 40,
   "id": "701f8d89",
   "metadata": {},
   "outputs": [
    {
     "data": {
      "text/plain": [
       "income-group\n",
       "middle income    12207608\n",
       "low income        6103734\n",
       "high income       6103535\n",
       "Name: count, dtype: int64"
      ]
     },
     "execution_count": 40,
     "metadata": {},
     "output_type": "execute_result"
    }
   ],
   "source": [
    "df_drop['income-group'].value_counts(dropna = False)"
   ]
  },
  {
   "cell_type": "code",
   "execution_count": 41,
   "id": "be484e88",
   "metadata": {},
   "outputs": [],
   "source": [
    "# family status"
   ]
  },
  {
   "cell_type": "code",
   "execution_count": 42,
   "id": "8ba8ae9f",
   "metadata": {},
   "outputs": [
    {
     "data": {
      "text/plain": [
       "dependants\n",
       "3    6133537\n",
       "0    6105002\n",
       "2    6094231\n",
       "1    6082107\n",
       "Name: count, dtype: int64"
      ]
     },
     "execution_count": 42,
     "metadata": {},
     "output_type": "execute_result"
    }
   ],
   "source": [
    "df_drop['dependants'].value_counts(dropna = False)"
   ]
  },
  {
   "cell_type": "code",
   "execution_count": 43,
   "id": "c71ccdd2",
   "metadata": {},
   "outputs": [
    {
     "data": {
      "text/plain": [
       "family_status\n",
       "married                             17138476\n",
       "single                               4015790\n",
       "divorced/widowed                     2089212\n",
       "living with parents and siblings     1171399\n",
       "Name: count, dtype: int64"
      ]
     },
     "execution_count": 43,
     "metadata": {},
     "output_type": "execute_result"
    }
   ],
   "source": [
    "df_drop['family_status'].value_counts(dropna = False)"
   ]
  },
  {
   "cell_type": "code",
   "execution_count": 44,
   "id": "130d70c0",
   "metadata": {},
   "outputs": [],
   "source": [
    "df_drop.loc[(df_drop['family_status'] == 'married') & (df_drop['dependants'] == 0), 'fam_status'] = 'married without dependants'"
   ]
  },
  {
   "cell_type": "code",
   "execution_count": 45,
   "id": "3076433d",
   "metadata": {},
   "outputs": [],
   "source": [
    "df_drop.loc[(df_drop['family_status'] == 'married') & (df_drop['dependants'] >= 1), 'fam_status'] = 'married with dependants'"
   ]
  },
  {
   "cell_type": "code",
   "execution_count": 46,
   "id": "3c12dcb1",
   "metadata": {},
   "outputs": [],
   "source": [
    "df_drop.loc[(df_drop['family_status'] == 'single') & (df_drop['dependants'] == 0), 'fam_status'] = 'single without dependants'"
   ]
  },
  {
   "cell_type": "code",
   "execution_count": 47,
   "id": "bfedca04",
   "metadata": {},
   "outputs": [],
   "source": [
    "df_drop.loc[(df_drop['family_status'] == 'single') & (df_drop['dependants'] >= 1), 'fam_status'] = 'single with dependants'"
   ]
  },
  {
   "cell_type": "code",
   "execution_count": 48,
   "id": "e0f89bbb",
   "metadata": {},
   "outputs": [],
   "source": [
    "df_drop.loc[(df_drop['family_status'] == 'divorced/widowed') & (df_drop['dependants'] == 0), 'fam_status'] = 'divorced/widowed without dependants'"
   ]
  },
  {
   "cell_type": "code",
   "execution_count": 49,
   "id": "9eb9813c",
   "metadata": {},
   "outputs": [],
   "source": [
    "df_drop.loc[(df_drop['family_status'] == 'divorced/widowed') & (df_drop['dependants'] >= 1), 'fam_status'] = 'divorced/widowed with dependants'"
   ]
  },
  {
   "cell_type": "code",
   "execution_count": 50,
   "id": "70331dba",
   "metadata": {},
   "outputs": [],
   "source": [
    "df_drop.loc[(df_drop['family_status'] == 'living with parents and siblings') & (df_drop['dependants'] == 0), 'fam_status'] = 'living with parents and siblings without dependants'"
   ]
  },
  {
   "cell_type": "code",
   "execution_count": 51,
   "id": "76be9c70",
   "metadata": {},
   "outputs": [],
   "source": [
    "df_drop.loc[(df_drop['family_status'] == 'living with parents and siblings') & (df_drop['dependants'] >= 1), 'fam_status'] = 'living with parents and siblings with dependants'"
   ]
  },
  {
   "cell_type": "code",
   "execution_count": 52,
   "id": "11b8105a",
   "metadata": {},
   "outputs": [
    {
     "data": {
      "text/plain": [
       "fam_status\n",
       "married with dependants                             17138476\n",
       "single without dependants                            4015790\n",
       "divorced/widowed without dependants                  2089212\n",
       "living with parents and siblings with dependants     1171399\n",
       "Name: count, dtype: int64"
      ]
     },
     "execution_count": 52,
     "metadata": {},
     "output_type": "execute_result"
    }
   ],
   "source": [
    "df_drop['fam_status'].value_counts(dropna = False)"
   ]
  },
  {
   "cell_type": "code",
   "execution_count": 53,
   "id": "0a78f689",
   "metadata": {},
   "outputs": [],
   "source": [
    "#price range profile"
   ]
  },
  {
   "cell_type": "code",
   "execution_count": 54,
   "id": "311bb2c9",
   "metadata": {},
   "outputs": [
    {
     "data": {
      "text/plain": [
       "price_range_loc\n",
       "nan                   15896174\n",
       "Low-range product      7626745\n",
       "Mid-range product       583271\n",
       "High-range product      308687\n",
       "Name: count, dtype: int64"
      ]
     },
     "execution_count": 54,
     "metadata": {},
     "output_type": "execute_result"
    }
   ],
   "source": [
    "df_drop['price_range_loc'].value_counts()"
   ]
  },
  {
   "cell_type": "code",
   "execution_count": 55,
   "id": "1ee4bda2",
   "metadata": {},
   "outputs": [],
   "source": [
    "#Export the sample\n",
    "df_drop.to_pickle(os.path.join(path, 'Data', 'Prepared Data', 'orders_products_customer_profiles.pkl'))"
   ]
  },
  {
   "cell_type": "markdown",
   "id": "f9f34f60",
   "metadata": {},
   "source": [
    "## 6. Create visualization"
   ]
  },
  {
   "cell_type": "code",
   "execution_count": null,
   "id": "eaaafc77",
   "metadata": {},
   "outputs": [],
   "source": [
    "#create bar chart \n",
    "bar_age =  df_drop['age-group'].value_counts().plot.bar()"
   ]
  },
  {
   "cell_type": "code",
   "execution_count": null,
   "id": "6ede7261",
   "metadata": {},
   "outputs": [],
   "source": [
    "#create bar chart \n",
    "bar_income =  df_drop['income-group'].value_counts().plot.bar()"
   ]
  },
  {
   "cell_type": "code",
   "execution_count": null,
   "id": "329ad293",
   "metadata": {},
   "outputs": [],
   "source": [
    "#create bar chart \n",
    "bar_status =  df_drop['fam_status'].value_counts().plot.bar()"
   ]
  },
  {
   "cell_type": "code",
   "execution_count": null,
   "id": "defd3d9d",
   "metadata": {},
   "outputs": [],
   "source": [
    "#create bar chart \n",
    "bar_price_range = df['price_range_loc'].value_counts().drop(index='nan').plot.bar()"
   ]
  },
  {
   "cell_type": "code",
   "execution_count": null,
   "id": "8c09bba4",
   "metadata": {},
   "outputs": [],
   "source": [
    "# export visualisations"
   ]
  },
  {
   "cell_type": "code",
   "execution_count": null,
   "id": "557c5116",
   "metadata": {},
   "outputs": [],
   "source": [
    "bar_age.figure.savefig(os.path.join(path, 'Analysis', 'Visualizations', 'bar_age.png'))"
   ]
  },
  {
   "cell_type": "code",
   "execution_count": null,
   "id": "28836a8e",
   "metadata": {},
   "outputs": [],
   "source": [
    "bar_income.figure.savefig(os.path.join(path, 'Analysis', 'Visualizations', 'bar_income.png'))"
   ]
  },
  {
   "cell_type": "code",
   "execution_count": null,
   "id": "4bd67a82",
   "metadata": {},
   "outputs": [],
   "source": [
    "bar_status.figure.savefig(os.path.join(path, 'Analysis', 'Visualizations', 'bar_status.png'))"
   ]
  },
  {
   "cell_type": "code",
   "execution_count": null,
   "id": "24c932c2",
   "metadata": {},
   "outputs": [],
   "source": [
    "bar_price_range.figure.savefig(os.path.join(path, 'Analysis', 'Visualizations', 'bar_price_range.png'))"
   ]
  },
  {
   "cell_type": "markdown",
   "id": "2effa447",
   "metadata": {},
   "source": [
    "## 7. Aggregation"
   ]
  },
  {
   "cell_type": "code",
   "execution_count": null,
   "id": "2febdd69",
   "metadata": {},
   "outputs": [],
   "source": [
    "# change data type for better memory usage"
   ]
  },
  {
   "cell_type": "code",
   "execution_count": null,
   "id": "49b70038",
   "metadata": {},
   "outputs": [],
   "source": [
    "df_drop['department_id']=df_drop['department_id'].astype('str')"
   ]
  },
  {
   "cell_type": "code",
   "execution_count": null,
   "id": "fd5e5684",
   "metadata": {},
   "outputs": [],
   "source": [
    "df_drop['product_id']=df_drop['product_id'].astype('str')"
   ]
  },
  {
   "cell_type": "code",
   "execution_count": null,
   "id": "c1e3f7d3",
   "metadata": {},
   "outputs": [],
   "source": [
    "df_drop.groupby(['user_id', 'product_id', 'product_name', 'department_id', 'fam_status', 'age-group', 'income-group']).agg({'order_dow':['mean', 'median', 'min', 'max'], 'order_hour_of_day':['mean', 'median', 'min', 'max'], 'days_since_prior_order':['mean', 'median', 'min', 'max']})"
   ]
  },
  {
   "cell_type": "markdown",
   "id": "2bb28c0f",
   "metadata": {},
   "source": [
    "## 8. Compare Profiles with Regions and States"
   ]
  },
  {
   "cell_type": "code",
   "execution_count": null,
   "id": "b1f7bd48",
   "metadata": {},
   "outputs": [],
   "source": [
    "crosstab_state_age = pd.crosstab(df_drop['State'], df_drop['age-group'], dropna = False)"
   ]
  },
  {
   "cell_type": "code",
   "execution_count": null,
   "id": "e190d365",
   "metadata": {},
   "outputs": [],
   "source": [
    "# create bar chart\n",
    "bar_state_age = crosstab_state_age.plot.bar()"
   ]
  },
  {
   "cell_type": "code",
   "execution_count": null,
   "id": "0bce6ffa",
   "metadata": {},
   "outputs": [],
   "source": [
    "crosstab_state_income = pd.crosstab(df_drop['State'], df_drop['income-group'], dropna = False)"
   ]
  },
  {
   "cell_type": "code",
   "execution_count": null,
   "id": "8296a678",
   "metadata": {},
   "outputs": [],
   "source": [
    "# create bar chart\n",
    "bar_state_income = crosstab_state_income.plot.bar()"
   ]
  },
  {
   "cell_type": "code",
   "execution_count": null,
   "id": "1fbfe608",
   "metadata": {},
   "outputs": [],
   "source": [
    "crosstab_state_status = pd.crosstab(df_drop['State'], df_drop['fam_status'], dropna = False)"
   ]
  },
  {
   "cell_type": "code",
   "execution_count": null,
   "id": "75d87b05",
   "metadata": {},
   "outputs": [],
   "source": [
    "# create bar chart\n",
    "bar_state_status = crosstab_state_status.plot.bar()"
   ]
  },
  {
   "cell_type": "code",
   "execution_count": null,
   "id": "229da55c",
   "metadata": {},
   "outputs": [],
   "source": [
    "crosstab_region_age = pd.crosstab(df_drop['Region'], df_drop['age-group'], dropna = False)"
   ]
  },
  {
   "cell_type": "code",
   "execution_count": null,
   "id": "6bf2e319",
   "metadata": {},
   "outputs": [],
   "source": [
    "# create bar chart\n",
    "bar_region_age = crosstab_region_age.plot.bar()"
   ]
  },
  {
   "cell_type": "code",
   "execution_count": null,
   "id": "675bf04f",
   "metadata": {},
   "outputs": [],
   "source": [
    "crosstab_region_income = pd.crosstab(df_drop['Region'], df_drop['income-group'], dropna = False)"
   ]
  },
  {
   "cell_type": "code",
   "execution_count": null,
   "id": "be64ca63",
   "metadata": {},
   "outputs": [],
   "source": [
    "bar_region_income = crosstab_region_income.plot.bar()"
   ]
  },
  {
   "cell_type": "code",
   "execution_count": null,
   "id": "81d0d908",
   "metadata": {},
   "outputs": [],
   "source": [
    "crosstab_region_status = pd.crosstab(df_drop['Region'], df_drop['fam_status'], dropna = False)"
   ]
  },
  {
   "cell_type": "code",
   "execution_count": null,
   "id": "83f2bfab",
   "metadata": {},
   "outputs": [],
   "source": [
    "bar_region_status = crosstab_region_status.plot.bar()"
   ]
  },
  {
   "cell_type": "markdown",
   "id": "a52fe2a1",
   "metadata": {},
   "source": [
    "## 9. Export Graphs"
   ]
  },
  {
   "cell_type": "code",
   "execution_count": null,
   "id": "33f155c9",
   "metadata": {},
   "outputs": [],
   "source": [
    "# export graphs"
   ]
  },
  {
   "cell_type": "code",
   "execution_count": null,
   "id": "752fc2d7",
   "metadata": {},
   "outputs": [],
   "source": [
    "bar_state_age.figure.savefig(os.path.join(path, 'Analysis', 'Visualizations', 'bar_state_age.png'))"
   ]
  },
  {
   "cell_type": "code",
   "execution_count": null,
   "id": "d57d8826",
   "metadata": {},
   "outputs": [],
   "source": [
    "bar_state_income.figure.savefig(os.path.join(path, 'Analysis', 'Visualizations', 'bar_state_income.png'))"
   ]
  },
  {
   "cell_type": "code",
   "execution_count": null,
   "id": "5e0a4bf0",
   "metadata": {},
   "outputs": [],
   "source": [
    "bar_state_status.figure.savefig(os.path.join(path, 'Analysis', 'Visualizations', 'bar_state_status.png'))"
   ]
  },
  {
   "cell_type": "code",
   "execution_count": null,
   "id": "828c16b6",
   "metadata": {},
   "outputs": [],
   "source": [
    "bar_region_age.figure.savefig(os.path.join(path, 'Analysis', 'Visualizations', 'bar_region_age.png'))"
   ]
  },
  {
   "cell_type": "code",
   "execution_count": null,
   "id": "0140bcae",
   "metadata": {},
   "outputs": [],
   "source": [
    "bar_region_income.figure.savefig(os.path.join(path, 'Analysis', 'Visualizations', 'bar_region_income.png'))"
   ]
  },
  {
   "cell_type": "code",
   "execution_count": null,
   "id": "abd9fc6d",
   "metadata": {},
   "outputs": [],
   "source": [
    "bar_region_status.figure.savefig(os.path.join(path, 'Analysis', 'Visualizations', 'bar_region_status.png'))"
   ]
  },
  {
   "cell_type": "code",
   "execution_count": null,
   "id": "12499aaa",
   "metadata": {},
   "outputs": [],
   "source": []
  }
 ],
 "metadata": {
  "kernelspec": {
   "display_name": "Python 3 (ipykernel)",
   "language": "python",
   "name": "python3"
  },
  "language_info": {
   "codemirror_mode": {
    "name": "ipython",
    "version": 3
   },
   "file_extension": ".py",
   "mimetype": "text/x-python",
   "name": "python",
   "nbconvert_exporter": "python",
   "pygments_lexer": "ipython3",
   "version": "3.11.5"
  }
 },
 "nbformat": 4,
 "nbformat_minor": 5
}
